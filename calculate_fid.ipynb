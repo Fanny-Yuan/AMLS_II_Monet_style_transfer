{
 "cells": [
  {
   "cell_type": "code",
   "execution_count": null,
   "metadata": {},
   "outputs": [],
   "source": [
    "import argparse\n",
    "import os\n",
    "from pathlib import Path\n",
    "\n",
    "import numpy as np\n",
    "import skimage\n",
    "from PIL import Image\n",
    "from scipy.linalg import sqrtm\n",
    "from tensorflow.keras.applications.inception_v3 import (InceptionV3,\n",
    "                                                        preprocess_input)\n",
    "from tensorflow.keras.datasets import cifar10"
   ]
  },
  {
   "cell_type": "code",
   "execution_count": null,
   "metadata": {},
   "outputs": [],
   "source": [
    "def calculate_fid(images1, images2, model=None, return_acts=True):\n",
    "    # Prepare the inception v3 model\n",
    "    if model is None:\n",
    "        model = InceptionV3(include_top=False, pooling='avg', input_shape=(256,256,3))\n",
    "\n",
    "\t# Calculate activations\n",
    "    act1 = model.predict(images1, verbose=1)\n",
    "    act2 = model.predict(images2, verbose=1)\n",
    "\n",
    "    # Calculate mean and covariance statistics\n",
    "    mu1, sigma1 = act1.mean(axis=0), np.cov(act1, rowvar=False)\n",
    "    mu2, sigma2 = act2.mean(axis=0), np.cov(act2, rowvar=False)\n",
    "    \n",
    "    # Calculate sum squared difference between means\n",
    "    ssdiff = np.sum((mu1 - mu2)**2.0)\n",
    "    \n",
    "    # Calculate sqrt of product between cov\n",
    "    covmean = sqrtm(sigma1.dot(sigma2))\n",
    "    \n",
    "    # Check and correct imaginary numbers from sqrt\n",
    "    if np.iscomplexobj(covmean):\n",
    "        covmean = covmean.real\n",
    "    \n",
    "    # Calculate score\n",
    "    fid = ssdiff + np.trace(sigma1 + sigma2 - 2.0 * covmean)\n",
    "    if return_acts:\n",
    "        return fid, act1, act2\n",
    "    return fid\n",
    "\n",
    "def load_image(filename, img_size=(256, 256)):\n",
    "    im = Image.open(str(filename))\n",
    "    return im.resize(img_size, Image.ANTIALIAS)\n",
    "\n",
    "\n",
    "def load_data(data_path, img_size=(256, 256)):\n",
    "    data_path = Path(data_path)\n",
    "    files = list(data_path.glob('*.jpg')) + list(data_path.glob('*.png'))\n",
    "    return np.array([np.array(load_image(f, img_size)) for f in files])\n",
    "\n",
    "\n",
    "def distance_thresholding(d, cosine_distance_eps=0.1):\n",
    "    return d if d < cosine_distance_eps else 1\n",
    "\n",
    "\n",
    "def cosine_distance(features1, features2):\n",
    "    features1_nozero = features1[np.sum(features1, axis=1) != 0]\n",
    "    features2_nozero = features2[np.sum(features2, axis=1) != 0]\n",
    "    norm_f1 = normalize_rows(features1_nozero)\n",
    "    norm_f2 = normalize_rows(features2_nozero)\n",
    "\n",
    "    d = 1.0 - np.abs(np.matmul(norm_f1, norm_f2.T))\n",
    "    mean_min_d = np.mean(np.min(d, axis=1))\n",
    "    return mean_min_d\n",
    "\n",
    "\n",
    "def normalize_rows(x):\n",
    "    return np.nan_to_num(x/np.linalg.norm(x, ord=2, axis=1, keepdims=True))\n",
    "\n",
    "\n",
    "def evaluate(images1, images2, fid_epsilon=1e-14, cosine_distance_eps=0.1):\n",
    "    fid_value, act1, act2 = calculate_fid(images1, images2, return_acts=True)\n",
    "    d = cosine_distance(act1, act2)\n",
    "    d = distance_thresholding(d, cosine_distance_eps)\n",
    "    return fid_value, d, fid_value/(d + fid_epsilon)"
   ]
  },
  {
   "cell_type": "code",
   "execution_count": null,
   "metadata": {},
   "outputs": [],
   "source": [
    "monet_original = preprocess_input(load_data('./Results/Original'))\n",
    "monet_generated = preprocess_input(load_data('./Results/CycleGAN'))"
   ]
  },
  {
   "cell_type": "code",
   "execution_count": null,
   "metadata": {},
   "outputs": [],
   "source": [
    "fid_value, distance, mi_fid_score = evaluate(monet_original, monet_generated)\n",
    "    \n",
    "print(f'FID: {fid_value:.5f}')"
   ]
  },
  {
   "cell_type": "code",
   "execution_count": null,
   "metadata": {},
   "outputs": [],
   "source": []
  }
 ],
 "metadata": {
  "kernelspec": {
   "display_name": "Python 3",
   "language": "python",
   "name": "python3"
  },
  "language_info": {
   "codemirror_mode": {
    "name": "ipython",
    "version": 3
   },
   "file_extension": ".py",
   "mimetype": "text/x-python",
   "name": "python",
   "nbconvert_exporter": "python",
   "pygments_lexer": "ipython3",
   "version": "3.7.0"
  }
 },
 "nbformat": 4,
 "nbformat_minor": 4
}
